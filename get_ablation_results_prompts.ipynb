{
 "cells": [
  {
   "cell_type": "code",
   "execution_count": 1,
   "metadata": {},
   "outputs": [
    {
     "data": {
      "text/plain": [
       "\"\\n# get all metrics csv with stimulus\\nall_metrics = [f for f in os.listdir(input_dir) if f.startswith('metrics') and STIMULUS in f]\\nif RES != 'default':\\n    all_metrics = [f for f in all_metrics if 'res' in f]\\nif RES == 'default' and STIMULUS == 'drifting_gratings':\\n    all_metrics = [f for f in all_metrics if 'res' not in f]\\n#remove containers\\nfor container in containers_to_remove:\\n    all_metrics = [f for f in all_metrics if container not in f]\\nprint(len(all_metrics))\\n\""
      ]
     },
     "execution_count": 1,
     "metadata": {},
     "output_type": "execute_result"
    }
   ],
   "source": [
    "import os\n",
    "import pandas as pd\n",
    "\n",
    "#CONTAINER_ID = 'b6b4b6b4b6b4'\n",
    "STIMULUS = 'natural_scenes'\n",
    "RES = 'default'\n",
    "containers_to_remove = []#['718', '855']\n",
    "input_dir = 'gnorm_neg'\n",
    "\n",
    "\"\"\"\n",
    "# get all metrics csv with stimulus\n",
    "all_metrics = [f for f in os.listdir(input_dir) if f.startswith('metrics') and STIMULUS in f]\n",
    "if RES != 'default':\n",
    "    all_metrics = [f for f in all_metrics if 'res' in f]\n",
    "if RES == 'default' and STIMULUS == 'drifting_gratings':\n",
    "    all_metrics = [f for f in all_metrics if 'res' not in f]\n",
    "#remove containers\n",
    "for container in containers_to_remove:\n",
    "    all_metrics = [f for f in all_metrics if container not in f]\n",
    "print(len(all_metrics))\n",
    "\"\"\""
   ]
  },
  {
   "cell_type": "code",
   "execution_count": 2,
   "metadata": {},
   "outputs": [],
   "source": [
    "import os\n",
    "\n",
    "final_res = []\n",
    "input_dirs = [\n",
    "    'neuroformer_pos', \n",
    "    'neuroformer_neg',\n",
    "    ]#, 'gnorm_smoothed', 'gnorm_smoothed_neg', 'baselines_smoothed', 'baselines_smoothed_neg']#, 'baselines_neg']\n",
    "for stim in ['drifting_gratings', 'static_gratings', 'locally_sparse_noise', 'natural_scenes']:\n",
    "\n",
    "    STIMULUS = stim\n",
    "    RES = 'default'\n",
    "\n",
    "    # get all metrics csv with stimulus\n",
    "    dfs = []\n",
    "    for input_dir in input_dirs:\n",
    "        all_metrics = [f for f in os.listdir(input_dir) if f.startswith('metrics')]\n",
    "\n",
    "        if RES != 'default':\n",
    "            all_metrics = [f for f in all_metrics if 'res' in f]\n",
    "        if RES == 'default' and STIMULUS == 'drifting_gratings':\n",
    "            all_metrics = [f for f in all_metrics if 'res' not in f]\n",
    "            \n",
    "        #remove containers\n",
    "        for container in containers_to_remove:\n",
    "            all_metrics = [f for f in all_metrics if container not in f]\n",
    "        \n",
    "        dfs += [pd.read_csv(os.path.join(input_dir, f), index_col=0) for f in all_metrics]\n",
    "    mean_df = pd.concat(dfs).groupby(level=0).mean()\n",
    "    std_df = pd.concat(dfs).groupby(level=0).std()\n",
    "    # remove /dtw and /mase_avg rows\n",
    "    mean_df = mean_df[~mean_df.index.str.contains('/dtw')]\n",
    "    mean_df = mean_df[~mean_df.index.str.contains('/mase_avg')]\n",
    "    std_df = std_df[~std_df.index.str.contains('/dtw')]\n",
    "    std_df = std_df[~std_df.index.str.contains('/mase_avg')]\n",
    "    # also psnr\n",
    "    #mean_df = mean_df[~mean_df.index.str.contains('psnr')]\n",
    "    \n",
    "    final_res.append(mean_df)"
   ]
  },
  {
   "cell_type": "code",
   "execution_count": 3,
   "metadata": {},
   "outputs": [
    {
     "ename": "KeyError",
     "evalue": "'mv_prompts'",
     "output_type": "error",
     "traceback": [
      "\u001b[0;31m---------------------------------------------------------------------------\u001b[0m",
      "\u001b[0;31mKeyError\u001b[0m                                  Traceback (most recent call last)",
      "File \u001b[0;32m~/miniconda3/envs/neuroformer/lib/python3.11/site-packages/pandas/core/indexes/base.py:3805\u001b[0m, in \u001b[0;36mIndex.get_loc\u001b[0;34m(self, key)\u001b[0m\n\u001b[1;32m   3804\u001b[0m \u001b[38;5;28;01mtry\u001b[39;00m:\n\u001b[0;32m-> 3805\u001b[0m     \u001b[38;5;28;01mreturn\u001b[39;00m \u001b[38;5;28;43mself\u001b[39;49m\u001b[38;5;241;43m.\u001b[39;49m\u001b[43m_engine\u001b[49m\u001b[38;5;241;43m.\u001b[39;49m\u001b[43mget_loc\u001b[49m\u001b[43m(\u001b[49m\u001b[43mcasted_key\u001b[49m\u001b[43m)\u001b[49m\n\u001b[1;32m   3806\u001b[0m \u001b[38;5;28;01mexcept\u001b[39;00m \u001b[38;5;167;01mKeyError\u001b[39;00m \u001b[38;5;28;01mas\u001b[39;00m err:\n",
      "File \u001b[0;32mindex.pyx:167\u001b[0m, in \u001b[0;36mpandas._libs.index.IndexEngine.get_loc\u001b[0;34m()\u001b[0m\n",
      "File \u001b[0;32mindex.pyx:196\u001b[0m, in \u001b[0;36mpandas._libs.index.IndexEngine.get_loc\u001b[0;34m()\u001b[0m\n",
      "File \u001b[0;32mpandas/_libs/hashtable_class_helper.pxi:7081\u001b[0m, in \u001b[0;36mpandas._libs.hashtable.PyObjectHashTable.get_item\u001b[0;34m()\u001b[0m\n",
      "File \u001b[0;32mpandas/_libs/hashtable_class_helper.pxi:7089\u001b[0m, in \u001b[0;36mpandas._libs.hashtable.PyObjectHashTable.get_item\u001b[0;34m()\u001b[0m\n",
      "\u001b[0;31mKeyError\u001b[0m: 'mv_prompts'",
      "\nThe above exception was the direct cause of the following exception:\n",
      "\u001b[0;31mKeyError\u001b[0m                                  Traceback (most recent call last)",
      "Cell \u001b[0;32mIn[3], line 1\u001b[0m\n\u001b[0;32m----> 1\u001b[0m mses \u001b[38;5;241m=\u001b[39m \u001b[43m[\u001b[49m\u001b[43mdf\u001b[49m\u001b[43m[\u001b[49m\u001b[38;5;124;43m'\u001b[39;49m\u001b[38;5;124;43mmv_prompts\u001b[39;49m\u001b[38;5;124;43m'\u001b[39;49m\u001b[43m]\u001b[49m\u001b[38;5;241;43m.\u001b[39;49m\u001b[43mloc\u001b[49m\u001b[43m[\u001b[49m\u001b[38;5;124;43m'\u001b[39;49m\u001b[38;5;124;43m/correlation\u001b[39;49m\u001b[38;5;124;43m'\u001b[39;49m\u001b[43m]\u001b[49m\u001b[43m \u001b[49m\u001b[38;5;28;43;01mfor\u001b[39;49;00m\u001b[43m \u001b[49m\u001b[43mdf\u001b[49m\u001b[43m \u001b[49m\u001b[38;5;129;43;01min\u001b[39;49;00m\u001b[43m \u001b[49m\u001b[43mdfs\u001b[49m\u001b[43m]\u001b[49m\n",
      "Cell \u001b[0;32mIn[3], line 1\u001b[0m, in \u001b[0;36m<listcomp>\u001b[0;34m(.0)\u001b[0m\n\u001b[0;32m----> 1\u001b[0m mses \u001b[38;5;241m=\u001b[39m [\u001b[43mdf\u001b[49m\u001b[43m[\u001b[49m\u001b[38;5;124;43m'\u001b[39;49m\u001b[38;5;124;43mmv_prompts\u001b[39;49m\u001b[38;5;124;43m'\u001b[39;49m\u001b[43m]\u001b[49m\u001b[38;5;241m.\u001b[39mloc[\u001b[38;5;124m'\u001b[39m\u001b[38;5;124m/correlation\u001b[39m\u001b[38;5;124m'\u001b[39m] \u001b[38;5;28;01mfor\u001b[39;00m df \u001b[38;5;129;01min\u001b[39;00m dfs]\n",
      "File \u001b[0;32m~/miniconda3/envs/neuroformer/lib/python3.11/site-packages/pandas/core/frame.py:4102\u001b[0m, in \u001b[0;36mDataFrame.__getitem__\u001b[0;34m(self, key)\u001b[0m\n\u001b[1;32m   4100\u001b[0m \u001b[38;5;28;01mif\u001b[39;00m \u001b[38;5;28mself\u001b[39m\u001b[38;5;241m.\u001b[39mcolumns\u001b[38;5;241m.\u001b[39mnlevels \u001b[38;5;241m>\u001b[39m \u001b[38;5;241m1\u001b[39m:\n\u001b[1;32m   4101\u001b[0m     \u001b[38;5;28;01mreturn\u001b[39;00m \u001b[38;5;28mself\u001b[39m\u001b[38;5;241m.\u001b[39m_getitem_multilevel(key)\n\u001b[0;32m-> 4102\u001b[0m indexer \u001b[38;5;241m=\u001b[39m \u001b[38;5;28;43mself\u001b[39;49m\u001b[38;5;241;43m.\u001b[39;49m\u001b[43mcolumns\u001b[49m\u001b[38;5;241;43m.\u001b[39;49m\u001b[43mget_loc\u001b[49m\u001b[43m(\u001b[49m\u001b[43mkey\u001b[49m\u001b[43m)\u001b[49m\n\u001b[1;32m   4103\u001b[0m \u001b[38;5;28;01mif\u001b[39;00m is_integer(indexer):\n\u001b[1;32m   4104\u001b[0m     indexer \u001b[38;5;241m=\u001b[39m [indexer]\n",
      "File \u001b[0;32m~/miniconda3/envs/neuroformer/lib/python3.11/site-packages/pandas/core/indexes/base.py:3812\u001b[0m, in \u001b[0;36mIndex.get_loc\u001b[0;34m(self, key)\u001b[0m\n\u001b[1;32m   3807\u001b[0m     \u001b[38;5;28;01mif\u001b[39;00m \u001b[38;5;28misinstance\u001b[39m(casted_key, \u001b[38;5;28mslice\u001b[39m) \u001b[38;5;129;01mor\u001b[39;00m (\n\u001b[1;32m   3808\u001b[0m         \u001b[38;5;28misinstance\u001b[39m(casted_key, abc\u001b[38;5;241m.\u001b[39mIterable)\n\u001b[1;32m   3809\u001b[0m         \u001b[38;5;129;01mand\u001b[39;00m \u001b[38;5;28many\u001b[39m(\u001b[38;5;28misinstance\u001b[39m(x, \u001b[38;5;28mslice\u001b[39m) \u001b[38;5;28;01mfor\u001b[39;00m x \u001b[38;5;129;01min\u001b[39;00m casted_key)\n\u001b[1;32m   3810\u001b[0m     ):\n\u001b[1;32m   3811\u001b[0m         \u001b[38;5;28;01mraise\u001b[39;00m InvalidIndexError(key)\n\u001b[0;32m-> 3812\u001b[0m     \u001b[38;5;28;01mraise\u001b[39;00m \u001b[38;5;167;01mKeyError\u001b[39;00m(key) \u001b[38;5;28;01mfrom\u001b[39;00m \u001b[38;5;21;01merr\u001b[39;00m\n\u001b[1;32m   3813\u001b[0m \u001b[38;5;28;01mexcept\u001b[39;00m \u001b[38;5;167;01mTypeError\u001b[39;00m:\n\u001b[1;32m   3814\u001b[0m     \u001b[38;5;66;03m# If we have a listlike key, _check_indexing_error will raise\u001b[39;00m\n\u001b[1;32m   3815\u001b[0m     \u001b[38;5;66;03m#  InvalidIndexError. Otherwise we fall through and re-raise\u001b[39;00m\n\u001b[1;32m   3816\u001b[0m     \u001b[38;5;66;03m#  the TypeError.\u001b[39;00m\n\u001b[1;32m   3817\u001b[0m     \u001b[38;5;28mself\u001b[39m\u001b[38;5;241m.\u001b[39m_check_indexing_error(key)\n",
      "\u001b[0;31mKeyError\u001b[0m: 'mv_prompts'"
     ]
    }
   ],
   "source": [
    "mses = [df['mv_prompts'].loc['/correlation'] for df in dfs]"
   ]
  },
  {
   "cell_type": "code",
   "execution_count": 31,
   "metadata": {},
   "outputs": [
    {
     "data": {
      "text/plain": [
       "(0.2743246027014472, 0.11343777733642717)"
      ]
     },
     "execution_count": 31,
     "metadata": {},
     "output_type": "execute_result"
    }
   ],
   "source": [
    "import numpy as np\n",
    "\n",
    "mses = np.array(mses)\n",
    "x = mses[(mses)<5.]\n",
    "x.mean(), x.std()"
   ]
  },
  {
   "cell_type": "code",
   "execution_count": 25,
   "metadata": {},
   "outputs": [
    {
     "data": {
      "text/plain": [
       "(0.4479755161813012, 0.970404635957697)"
      ]
     },
     "execution_count": 25,
     "metadata": {},
     "output_type": "execute_result"
    }
   ],
   "source": [
    "x.mean(), x.std()"
   ]
  },
  {
   "cell_type": "code",
   "execution_count": 3,
   "metadata": {},
   "outputs": [
    {
     "data": {
      "image/png": "[encoded data removed]",
      "text/plain": [
       "<Figure size 640x480 with 1 Axes>"
      ]
     },
     "metadata": {},
     "output_type": "display_data"
    }
   ],
   "source": [
    "import matplotlib.pyplot as plt\n",
    "\n",
    "fig, ax = plt.subplots()\n",
    "mean_df = pd.concat(final_res)\n",
    "mean_df = mean_df.groupby(level=0).mean()\n",
    "#mean_df['lstm']\n",
    "mean_df.plot(kind='bar', ax=ax)\n",
    "plt.xticks(rotation=45)\n",
    "plt.tight_layout()"
   ]
  },
  {
   "cell_type": "code",
   "execution_count": 4,
   "metadata": {},
   "outputs": [],
   "source": [
    "# transpose mean_df and std_df\n",
    "mean_df = mean_df.T\n",
    "std_df = std_df.T"
   ]
  },
  {
   "cell_type": "code",
   "execution_count": 10,
   "metadata": {},
   "outputs": [
    {
     "data": {
      "text/plain": [
       "Index(['/correlation', '/mae', '/mase_f0', '/mse', '/smape', '/ssim'], dtype='object')"
      ]
     },
     "execution_count": 10,
     "metadata": {},
     "output_type": "execute_result"
    }
   ],
   "source": [
    "mean_df.columns"
   ]
  },
  {
   "cell_type": "code",
   "execution_count": 13,
   "metadata": {},
   "outputs": [
    {
     "data": {
      "text/html": [
       "<div>\n",
       "<style scoped>\n",
       "    .dataframe tbody tr th:only-of-type {\n",
       "        vertical-align: middle;\n",
       "    }\n",
       "\n",
       "    .dataframe tbody tr th {\n",
       "        vertical-align: top;\n",
       "    }\n",
       "\n",
       "    .dataframe thead th {\n",
       "        text-align: right;\n",
       "    }\n",
       "</style>\n",
       "<table border=\"1\" class=\"dataframe\">\n",
       "  <thead>\n",
       "    <tr style=\"text-align: right;\">\n",
       "      <th></th>\n",
       "      <th>/mse</th>\n",
       "      <th>/mae</th>\n",
       "      <th>/smape</th>\n",
       "      <th>/ssim</th>\n",
       "      <th>/correlation</th>\n",
       "    </tr>\n",
       "  </thead>\n",
       "  <tbody>\n",
       "    <tr>\n",
       "      <th>neuroformer</th>\n",
       "      <td>92.1908</td>\n",
       "      <td>3.4323</td>\n",
       "      <td>0.8569</td>\n",
       "      <td>0.005</td>\n",
       "      <td>0.3997</td>\n",
       "    </tr>\n",
       "  </tbody>\n",
       "</table>\n",
       "</div>"
      ],
      "text/plain": [
       "                /mse    /mae  /smape  /ssim  /correlation\n",
       "neuroformer  92.1908  3.4323  0.8569  0.005        0.3997"
      ]
     },
     "execution_count": 13,
     "metadata": {},
     "output_type": "execute_result"
    }
   ],
   "source": [
    "mean_df[['/mse', '/mae', '/smape', '/ssim', '/correlation']].round(4)"
   ]
  },
  {
   "cell_type": "code",
   "execution_count": 14,
   "metadata": {},
   "outputs": [
    {
     "data": {
      "text/html": [
       "<div>\n",
       "<style scoped>\n",
       "    .dataframe tbody tr th:only-of-type {\n",
       "        vertical-align: middle;\n",
       "    }\n",
       "\n",
       "    .dataframe tbody tr th {\n",
       "        vertical-align: top;\n",
       "    }\n",
       "\n",
       "    .dataframe thead th {\n",
       "        text-align: right;\n",
       "    }\n",
       "</style>\n",
       "<table border=\"1\" class=\"dataframe\">\n",
       "  <thead>\n",
       "    <tr style=\"text-align: right;\">\n",
       "      <th></th>\n",
       "      <th>/mse</th>\n",
       "      <th>/mae</th>\n",
       "      <th>/smape</th>\n",
       "      <th>/ssim</th>\n",
       "      <th>/correlation</th>\n",
       "    </tr>\n",
       "  </thead>\n",
       "  <tbody>\n",
       "    <tr>\n",
       "      <th>neuroformer</th>\n",
       "      <td>255.2062</td>\n",
       "      <td>4.0493</td>\n",
       "      <td>0.0691</td>\n",
       "      <td>0.0089</td>\n",
       "      <td>0.114</td>\n",
       "    </tr>\n",
       "  </tbody>\n",
       "</table>\n",
       "</div>"
      ],
      "text/plain": [
       "                 /mse    /mae  /smape   /ssim  /correlation\n",
       "neuroformer  255.2062  4.0493  0.0691  0.0089         0.114"
      ]
     },
     "execution_count": 14,
     "metadata": {},
     "output_type": "execute_result"
    }
   ],
   "source": [
    "std_df[['/mse', '/mae', '/smape', '/ssim', '/correlation']].round(4)"
   ]
  },
  {
   "cell_type": "code",
   "execution_count": 36,
   "metadata": {},
   "outputs": [],
   "source": [
    "output_dir =\"results_ablation_prompts\"\n",
    "mean_df.to_csv(os.path.join(output_dir, 'ablation_prompts_mean_metrics1.csv'))\n",
    "std_df.to_csv(os.path.join(output_dir, 'ablation_prompts_std_metrics1.csv'))"
   ]
  },
  {
   "cell_type": "code",
   "execution_count": 41,
   "metadata": {},
   "outputs": [],
   "source": [
    "# read ablation_prompts_mean_metrics0 and ablation_prompts_std_metrics1 and join\n",
    "mean_df0 = pd.read_csv(os.path.join(output_dir, 'ablation_prompts_mean_metrics0.csv'), index_col=0)\n",
    "std_df0 = pd.read_csv(os.path.join(output_dir, 'ablation_prompts_std_metrics0.csv'), index_col=0)\n",
    "\n",
    "mean_df1 = pd.read_csv(os.path.join(output_dir, 'ablation_prompts_mean_metrics1.csv'), index_col=0)\n",
    "std_df1 = pd.read_csv(os.path.join(output_dir, 'ablation_prompts_std_metrics1.csv'), index_col=0)\n",
    "\n",
    "mean_df = pd.concat([mean_df1, mean_df0])\n",
    "std_df = pd.concat([std_df1, std_df0])"
   ]
  },
  {
   "cell_type": "code",
   "execution_count": 44,
   "metadata": {},
   "outputs": [],
   "source": [
    "metrics = [\"/mse\", \"/mae\", \"/mase_f0\", \"/smape\", \"/correlation\", \"/ssim\", \"/psnr\"]\n",
    "mean_df[metrics].to_csv(os.path.join(output_dir, 'ablation_prompts_mean_metrics.csv'))\n",
    "std_df[metrics].to_csv(os.path.join(output_dir, 'ablation_prompts_std_metrics.csv'))"
   ]
  },
  {
   "cell_type": "code",
   "execution_count": 44,
   "metadata": {},
   "outputs": [],
   "source": [
    "#ordered_models = [\"lstm\", \"informer\", \"autoformer\", \"brainlm_e2e\", \"brainlm_fs\", \"crossformer_gnorm\", \"ours_gnorm\"]\n",
    "#mean_df[ordered_models].T\n",
    "\n",
    "# reverse order of rows\n",
    "mean_df = mean_df.iloc[::-1]\n",
    "std_df = std_df.iloc[::-1]"
   ]
  },
  {
   "cell_type": "code",
   "execution_count": 46,
   "metadata": {},
   "outputs": [],
   "source": [
    "# reset index\n",
    "mean_df = mean_df.reset_index(drop=True)\n",
    "std_df = std_df.reset_index(drop=True)"
   ]
  },
  {
   "cell_type": "code",
   "execution_count": 48,
   "metadata": {},
   "outputs": [],
   "source": [
    "import pandas as pd\n",
    "\n",
    "metrics = [\"K\", \"D\", \"/mse\", \"/mae\", \"/mase_f0\", \"/smape\", \"/correlation\", \"/ssim\", \"/psnr\"]"
   ]
  },
  {
   "cell_type": "code",
   "execution_count": 49,
   "metadata": {},
   "outputs": [
    {
     "data": {
      "text/html": [
       "<div>\n",
       "<style scoped>\n",
       "    .dataframe tbody tr th:only-of-type {\n",
       "        vertical-align: middle;\n",
       "    }\n",
       "\n",
       "    .dataframe tbody tr th {\n",
       "        vertical-align: top;\n",
       "    }\n",
       "\n",
       "    .dataframe thead th {\n",
       "        text-align: right;\n",
       "    }\n",
       "</style>\n",
       "<table border=\"1\" class=\"dataframe\">\n",
       "  <thead>\n",
       "    <tr style=\"text-align: right;\">\n",
       "      <th></th>\n",
       "      <th>K</th>\n",
       "      <th>D</th>\n",
       "      <th>/mse</th>\n",
       "      <th>/mae</th>\n",
       "      <th>/mase_f0</th>\n",
       "      <th>/smape</th>\n",
       "      <th>/correlation</th>\n",
       "      <th>/ssim</th>\n",
       "      <th>/psnr</th>\n",
       "    </tr>\n",
       "  </thead>\n",
       "  <tbody>\n",
       "    <tr>\n",
       "      <th>0</th>\n",
       "      <td>32</td>\n",
       "      <td>64</td>\n",
       "      <td>0.030949</td>\n",
       "      <td>0.152163</td>\n",
       "      <td>2.696067</td>\n",
       "      <td>0.661547</td>\n",
       "      <td>0.157360</td>\n",
       "      <td>0.060558</td>\n",
       "      <td>1.362317</td>\n",
       "    </tr>\n",
       "    <tr>\n",
       "      <th>1</th>\n",
       "      <td>32</td>\n",
       "      <td>128</td>\n",
       "      <td>0.026440</td>\n",
       "      <td>0.128072</td>\n",
       "      <td>2.169976</td>\n",
       "      <td>0.640569</td>\n",
       "      <td>0.257050</td>\n",
       "      <td>0.090184</td>\n",
       "      <td>2.758843</td>\n",
       "    </tr>\n",
       "    <tr>\n",
       "      <th>2</th>\n",
       "      <td>32</td>\n",
       "      <td>256</td>\n",
       "      <td>0.051066</td>\n",
       "      <td>0.179259</td>\n",
       "      <td>2.985677</td>\n",
       "      <td>0.763861</td>\n",
       "      <td>0.284742</td>\n",
       "      <td>0.016459</td>\n",
       "      <td>-0.109544</td>\n",
       "    </tr>\n",
       "    <tr>\n",
       "      <th>3</th>\n",
       "      <td>32</td>\n",
       "      <td>512</td>\n",
       "      <td>0.027462</td>\n",
       "      <td>0.113309</td>\n",
       "      <td>1.519753</td>\n",
       "      <td>0.751265</td>\n",
       "      <td>0.133923</td>\n",
       "      <td>0.015133</td>\n",
       "      <td>4.311367</td>\n",
       "    </tr>\n",
       "    <tr>\n",
       "      <th>4</th>\n",
       "      <td>4</td>\n",
       "      <td>128</td>\n",
       "      <td>0.028377</td>\n",
       "      <td>0.132001</td>\n",
       "      <td>1.940115</td>\n",
       "      <td>0.744181</td>\n",
       "      <td>0.161104</td>\n",
       "      <td>0.009912</td>\n",
       "      <td>2.873732</td>\n",
       "    </tr>\n",
       "    <tr>\n",
       "      <th>5</th>\n",
       "      <td>8</td>\n",
       "      <td>128</td>\n",
       "      <td>0.033343</td>\n",
       "      <td>0.160519</td>\n",
       "      <td>2.746172</td>\n",
       "      <td>0.672971</td>\n",
       "      <td>0.201114</td>\n",
       "      <td>0.060084</td>\n",
       "      <td>1.120975</td>\n",
       "    </tr>\n",
       "    <tr>\n",
       "      <th>6</th>\n",
       "      <td>16</td>\n",
       "      <td>128</td>\n",
       "      <td>0.014892</td>\n",
       "      <td>0.081308</td>\n",
       "      <td>1.148131</td>\n",
       "      <td>0.646972</td>\n",
       "      <td>0.218510</td>\n",
       "      <td>0.091057</td>\n",
       "      <td>6.223766</td>\n",
       "    </tr>\n",
       "    <tr>\n",
       "      <th>7</th>\n",
       "      <td>128</td>\n",
       "      <td>128</td>\n",
       "      <td>0.040334</td>\n",
       "      <td>0.141773</td>\n",
       "      <td>2.300863</td>\n",
       "      <td>0.685800</td>\n",
       "      <td>0.218090</td>\n",
       "      <td>0.064294</td>\n",
       "      <td>3.143576</td>\n",
       "    </tr>\n",
       "    <tr>\n",
       "      <th>8</th>\n",
       "      <td>256</td>\n",
       "      <td>128</td>\n",
       "      <td>0.027876</td>\n",
       "      <td>0.118864</td>\n",
       "      <td>1.839850</td>\n",
       "      <td>0.711767</td>\n",
       "      <td>0.148919</td>\n",
       "      <td>0.035211</td>\n",
       "      <td>3.934337</td>\n",
       "    </tr>\n",
       "    <tr>\n",
       "      <th>9</th>\n",
       "      <td>512</td>\n",
       "      <td>128</td>\n",
       "      <td>0.026604</td>\n",
       "      <td>0.115569</td>\n",
       "      <td>1.626537</td>\n",
       "      <td>0.768598</td>\n",
       "      <td>0.167825</td>\n",
       "      <td>0.013530</td>\n",
       "      <td>3.757577</td>\n",
       "    </tr>\n",
       "  </tbody>\n",
       "</table>\n",
       "</div>"
      ],
      "text/plain": [
       "     K    D      /mse      /mae  /mase_f0    /smape  /correlation     /ssim  \\\n",
       "0   32   64  0.030949  0.152163  2.696067  0.661547      0.157360  0.060558   \n",
       "1   32  128  0.026440  0.128072  2.169976  0.640569      0.257050  0.090184   \n",
       "2   32  256  0.051066  0.179259  2.985677  0.763861      0.284742  0.016459   \n",
       "3   32  512  0.027462  0.113309  1.519753  0.751265      0.133923  0.015133   \n",
       "4    4  128  0.028377  0.132001  1.940115  0.744181      0.161104  0.009912   \n",
       "5    8  128  0.033343  0.160519  2.746172  0.672971      0.201114  0.060084   \n",
       "6   16  128  0.014892  0.081308  1.148131  0.646972      0.218510  0.091057   \n",
       "7  128  128  0.040334  0.141773  2.300863  0.685800      0.218090  0.064294   \n",
       "8  256  128  0.027876  0.118864  1.839850  0.711767      0.148919  0.035211   \n",
       "9  512  128  0.026604  0.115569  1.626537  0.768598      0.167825  0.013530   \n",
       "\n",
       "      /psnr  \n",
       "0  1.362317  \n",
       "1  2.758843  \n",
       "2 -0.109544  \n",
       "3  4.311367  \n",
       "4  2.873732  \n",
       "5  1.120975  \n",
       "6  6.223766  \n",
       "7  3.143576  \n",
       "8  3.934337  \n",
       "9  3.757577  "
      ]
     },
     "execution_count": 49,
     "metadata": {},
     "output_type": "execute_result"
    }
   ],
   "source": [
    "mean_df[metrics]"
   ]
  },
  {
   "cell_type": "code",
   "execution_count": 50,
   "metadata": {},
   "outputs": [
    {
     "data": {
      "text/html": [
       "<div>\n",
       "<style scoped>\n",
       "    .dataframe tbody tr th:only-of-type {\n",
       "        vertical-align: middle;\n",
       "    }\n",
       "\n",
       "    .dataframe tbody tr th {\n",
       "        vertical-align: top;\n",
       "    }\n",
       "\n",
       "    .dataframe thead th {\n",
       "        text-align: right;\n",
       "    }\n",
       "</style>\n",
       "<table border=\"1\" class=\"dataframe\">\n",
       "  <thead>\n",
       "    <tr style=\"text-align: right;\">\n",
       "      <th></th>\n",
       "      <th>K</th>\n",
       "      <th>D</th>\n",
       "      <th>/mse</th>\n",
       "      <th>/mae</th>\n",
       "      <th>/mase_f0</th>\n",
       "      <th>/smape</th>\n",
       "      <th>/correlation</th>\n",
       "      <th>/ssim</th>\n",
       "      <th>/psnr</th>\n",
       "    </tr>\n",
       "  </thead>\n",
       "  <tbody>\n",
       "    <tr>\n",
       "      <th>0</th>\n",
       "      <td>32</td>\n",
       "      <td>64</td>\n",
       "      <td>0.009006</td>\n",
       "      <td>0.028446</td>\n",
       "      <td>1.709213</td>\n",
       "      <td>0.183202</td>\n",
       "      <td>0.010047</td>\n",
       "      <td>0.060242</td>\n",
       "      <td>7.086810</td>\n",
       "    </tr>\n",
       "    <tr>\n",
       "      <th>1</th>\n",
       "      <td>32</td>\n",
       "      <td>128</td>\n",
       "      <td>0.005447</td>\n",
       "      <td>0.014520</td>\n",
       "      <td>1.241338</td>\n",
       "      <td>0.154168</td>\n",
       "      <td>0.076739</td>\n",
       "      <td>0.086059</td>\n",
       "      <td>6.248416</td>\n",
       "    </tr>\n",
       "    <tr>\n",
       "      <th>2</th>\n",
       "      <td>32</td>\n",
       "      <td>256</td>\n",
       "      <td>0.008608</td>\n",
       "      <td>0.015669</td>\n",
       "      <td>1.640662</td>\n",
       "      <td>0.061892</td>\n",
       "      <td>0.080484</td>\n",
       "      <td>0.028526</td>\n",
       "      <td>6.545403</td>\n",
       "    </tr>\n",
       "    <tr>\n",
       "      <th>3</th>\n",
       "      <td>32</td>\n",
       "      <td>512</td>\n",
       "      <td>0.027521</td>\n",
       "      <td>0.064084</td>\n",
       "      <td>0.712949</td>\n",
       "      <td>0.110849</td>\n",
       "      <td>0.019801</td>\n",
       "      <td>0.052155</td>\n",
       "      <td>3.561855</td>\n",
       "    </tr>\n",
       "    <tr>\n",
       "      <th>4</th>\n",
       "      <td>4</td>\n",
       "      <td>128</td>\n",
       "      <td>0.013803</td>\n",
       "      <td>0.032069</td>\n",
       "      <td>0.747016</td>\n",
       "      <td>0.048579</td>\n",
       "      <td>0.049933</td>\n",
       "      <td>0.028496</td>\n",
       "      <td>4.455188</td>\n",
       "    </tr>\n",
       "    <tr>\n",
       "      <th>5</th>\n",
       "      <td>8</td>\n",
       "      <td>128</td>\n",
       "      <td>0.006228</td>\n",
       "      <td>0.019710</td>\n",
       "      <td>1.593867</td>\n",
       "      <td>0.173578</td>\n",
       "      <td>0.065326</td>\n",
       "      <td>0.072977</td>\n",
       "      <td>6.692436</td>\n",
       "    </tr>\n",
       "    <tr>\n",
       "      <th>6</th>\n",
       "      <td>16</td>\n",
       "      <td>128</td>\n",
       "      <td>0.008368</td>\n",
       "      <td>0.024089</td>\n",
       "      <td>0.326747</td>\n",
       "      <td>0.063242</td>\n",
       "      <td>0.072217</td>\n",
       "      <td>0.058120</td>\n",
       "      <td>3.190906</td>\n",
       "    </tr>\n",
       "    <tr>\n",
       "      <th>7</th>\n",
       "      <td>128</td>\n",
       "      <td>128</td>\n",
       "      <td>0.039858</td>\n",
       "      <td>0.075581</td>\n",
       "      <td>2.054897</td>\n",
       "      <td>0.105291</td>\n",
       "      <td>0.080841</td>\n",
       "      <td>0.062088</td>\n",
       "      <td>5.644676</td>\n",
       "    </tr>\n",
       "    <tr>\n",
       "      <th>8</th>\n",
       "      <td>256</td>\n",
       "      <td>128</td>\n",
       "      <td>0.014645</td>\n",
       "      <td>0.040922</td>\n",
       "      <td>1.209505</td>\n",
       "      <td>0.103466</td>\n",
       "      <td>0.043127</td>\n",
       "      <td>0.051322</td>\n",
       "      <td>4.310702</td>\n",
       "    </tr>\n",
       "    <tr>\n",
       "      <th>9</th>\n",
       "      <td>512</td>\n",
       "      <td>128</td>\n",
       "      <td>0.015906</td>\n",
       "      <td>0.043435</td>\n",
       "      <td>0.730567</td>\n",
       "      <td>0.105067</td>\n",
       "      <td>0.077440</td>\n",
       "      <td>0.052623</td>\n",
       "      <td>3.556790</td>\n",
       "    </tr>\n",
       "  </tbody>\n",
       "</table>\n",
       "</div>"
      ],
      "text/plain": [
       "     K    D      /mse      /mae  /mase_f0    /smape  /correlation     /ssim  \\\n",
       "0   32   64  0.009006  0.028446  1.709213  0.183202      0.010047  0.060242   \n",
       "1   32  128  0.005447  0.014520  1.241338  0.154168      0.076739  0.086059   \n",
       "2   32  256  0.008608  0.015669  1.640662  0.061892      0.080484  0.028526   \n",
       "3   32  512  0.027521  0.064084  0.712949  0.110849      0.019801  0.052155   \n",
       "4    4  128  0.013803  0.032069  0.747016  0.048579      0.049933  0.028496   \n",
       "5    8  128  0.006228  0.019710  1.593867  0.173578      0.065326  0.072977   \n",
       "6   16  128  0.008368  0.024089  0.326747  0.063242      0.072217  0.058120   \n",
       "7  128  128  0.039858  0.075581  2.054897  0.105291      0.080841  0.062088   \n",
       "8  256  128  0.014645  0.040922  1.209505  0.103466      0.043127  0.051322   \n",
       "9  512  128  0.015906  0.043435  0.730567  0.105067      0.077440  0.052623   \n",
       "\n",
       "      /psnr  \n",
       "0  7.086810  \n",
       "1  6.248416  \n",
       "2  6.545403  \n",
       "3  3.561855  \n",
       "4  4.455188  \n",
       "5  6.692436  \n",
       "6  3.190906  \n",
       "7  5.644676  \n",
       "8  4.310702  \n",
       "9  3.556790  "
      ]
     },
     "execution_count": 50,
     "metadata": {},
     "output_type": "execute_result"
    }
   ],
   "source": [
    "std_df[metrics]"
   ]
  },
  {
   "cell_type": "code",
   "execution_count": 52,
   "metadata": {},
   "outputs": [],
   "source": [
    "# save results\n",
    "output_dir = 'results_ablation_KD'\n",
    "os.makedirs(output_dir, exist_ok=True)\n",
    "\n",
    "mean_df[metrics].to_csv(os.path.join(output_dir, 'ablation_KD_mean_metrics.csv'))\n",
    "std_df[metrics].to_csv(os.path.join(output_dir, 'ablation_KD_std_metrics.csv'))"
   ]
  },
  {
   "cell_type": "code",
   "execution_count": null,
   "metadata": {},
   "outputs": [],
   "source": [
    "def bold_result(mean, std):\n",
    "    return \"& \\resultnof{\\textbf{\" + f\"{mean:.2f}\" + \"}}{\" + f\"{std:.2f}\" + \"} \""
   ]
  },
  {
   "cell_type": "code",
   "execution_count": null,
   "metadata": {},
   "outputs": [],
   "source": [
    "def result(mean, std):\n",
    "    return \"& \\resultnof{\" + f\"{mean:.2f}\" + \"}{\" + f\"{std:.2f}\" + \"} \""
   ]
  },
  {
   "cell_type": "code",
   "execution_count": null,
   "metadata": {},
   "outputs": [],
   "source": [
    "model = \"lstm\"\n",
    "metrics = [\"/mse\", \"/mae\", \"/mase_f0\", \"/smape\", \"/correlation\", \"/ssim\", \"/psnr\"]"
   ]
  },
  {
   "cell_type": "code",
   "execution_count": null,
   "metadata": {},
   "outputs": [],
   "source": [
    "metrics = [\"/correlation\"]"
   ]
  },
  {
   "cell_type": "code",
   "execution_count": null,
   "metadata": {},
   "outputs": [],
   "source": [
    "s = []\n",
    "\n",
    "for model in ordered_models:\n",
    "    \n",
    "    model_str = \"\"\n",
    "    \n",
    "    for metric in metrics:\n",
    "        mean = mean_df[model][metric]\n",
    "        std = std_df[model][metric]\n",
    "        if model == \"ours_gnorm\":\n",
    "            model_str += bold_result(mean, std)\n",
    "        else:\n",
    "            model_str += result(mean, std)\n",
    "            \n",
    "    s.append(model + \" \" + model_str)"
   ]
  },
  {
   "cell_type": "code",
   "execution_count": null,
   "metadata": {},
   "outputs": [
    {
     "data": {
      "text/plain": [
       "['lstm & \\resultnof{0.37}{0.12} ',\n",
       " 'informer & \\resultnof{0.30}{0.03} ',\n",
       " 'autoformer & \\resultnof{0.31}{0.08} ',\n",
       " 'brainlm_e2e & \\resultnof{0.33}{0.12} ',\n",
       " 'brainlm_fs & \\resultnof{0.33}{0.12} ',\n",
       " 'crossformer_gnorm & \\resultnof{0.30}{0.08} ',\n",
       " 'ours_gnorm & \\resultnof{\\textbf{0.33}}{0.07} ']"
      ]
     },
     "execution_count": 79,
     "metadata": {},
     "output_type": "execute_result"
    }
   ],
   "source": [
    "s"
   ]
  },
  {
   "cell_type": "code",
   "execution_count": null,
   "metadata": {},
   "outputs": [
    {
     "data": {
      "text/plain": [
       "'& \\resultnof{0.10}{0.20} & \\resultnof{0.50}{78.00} '"
      ]
     },
     "execution_count": 80,
     "metadata": {},
     "output_type": "execute_result"
    }
   ],
   "source": [
    "result(0.1, 0.2) + result(0.5, 78)"
   ]
  },
  {
   "cell_type": "code",
   "execution_count": null,
   "metadata": {},
   "outputs": [
    {
     "data": {
      "text/plain": [
       "'& \\resultnof{\\textbf{0.25}}{--}  & \\resultnof{\\textbf{0.35}}{--}  & \\resultnof{\\textbf{2.40}}{--} & \\resultnof{\\textbf{0.69}}{--} & \\resultnof{\\textbf{0.30}}{--} & \\resultnof{\\textbf{0.07}}{--} & \\resultnof{\\textbf{0.67}}{--}'"
      ]
     },
     "execution_count": 81,
     "metadata": {},
     "output_type": "execute_result"
    }
   ],
   "source": [
    "\"& \\resultnof{\\textbf{0.25}}{--}  & \\resultnof{\\textbf{0.35}}{--}  & \\resultnof{\\textbf{2.40}}{--} & \\resultnof{\\textbf{0.69}}{--} & \\resultnof{\\textbf{0.30}}{--} & \\resultnof{\\textbf{0.07}}{--} & \\resultnof{\\textbf{0.67}}{--}\""
   ]
  },
  {
   "cell_type": "code",
   "execution_count": null,
   "metadata": {},
   "outputs": [],
   "source": [
    "os.makedirs('results_all_mice', exist_ok=True)\n",
    "mean_df.to_csv('results_all_mice/mean.csv')\n",
    "std_df.to_csv('results_all_mice/std.csv')"
   ]
  },
  {
   "cell_type": "code",
   "execution_count": null,
   "metadata": {},
   "outputs": [],
   "source": []
  }
 ],
 "metadata": {
  "kernelspec": {
   "display_name": "pytorch",
   "language": "python",
   "name": "python3"
  },
  "language_info": {
   "codemirror_mode": {
    "name": "ipython",
    "version": 3
   },
   "file_extension": ".py",
   "mimetype": "text/x-python",
   "name": "python",
   "nbconvert_exporter": "python",
   "pygments_lexer": "ipython3",
   "version": "3.11.9"
  }
 },
 "nbformat": 4,
 "nbformat_minor": 2
}
